{
 "cells": [
  {
   "cell_type": "code",
   "execution_count": 1,
   "id": "2b296cd1",
   "metadata": {},
   "outputs": [],
   "source": [
    "import numpy as np\n",
    "from numpy import pi, cos, sin, log, sqrt, exp\n",
    "import matplotlib.pyplot as plt\n",
    "from matplotlib import cm\n",
    "\n",
    "# Reloading the module\n",
    "import importlib\n",
    "\n",
    "import SEM2D_Line\n",
    "importlib.reload(SEM2D_Line)\n",
    "from SEM2D_Line import *"
   ]
  },
  {
   "cell_type": "code",
   "execution_count": 2,
   "id": "1eca7a38",
   "metadata": {},
   "outputs": [],
   "source": [
    "c1 = np.array([0, -1])\n",
    "c2 = np.array([2, 0])\n",
    "\n",
    "curve = Line(20, 'Legendre', c1, c2)"
   ]
  },
  {
   "cell_type": "code",
   "execution_count": 19,
   "id": "64aa279e",
   "metadata": {},
   "outputs": [
    {
     "name": "stdout",
     "output_type": "stream",
     "text": [
      "The order of the derivative must be in [1,4], return None\n"
     ]
    }
   ],
   "source": [
    "curve.cal_derivatives(s=100, order=0)"
   ]
  }
 ],
 "metadata": {
  "kernelspec": {
   "display_name": "Python 3 (ipykernel)",
   "language": "python",
   "name": "python3"
  },
  "language_info": {
   "codemirror_mode": {
    "name": "ipython",
    "version": 3
   },
   "file_extension": ".py",
   "mimetype": "text/x-python",
   "name": "python",
   "nbconvert_exporter": "python",
   "pygments_lexer": "ipython3",
   "version": "3.9.13"
  }
 },
 "nbformat": 4,
 "nbformat_minor": 5
}
