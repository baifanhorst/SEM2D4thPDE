{
 "cells": [
  {
   "cell_type": "code",
   "execution_count": 9,
   "id": "493625fa",
   "metadata": {},
   "outputs": [],
   "source": [
    "import sympy as sp\n",
    "from sympy import symbols, simplify\n",
    "from sympy import sin, cos, exp"
   ]
  },
  {
   "cell_type": "code",
   "execution_count": 2,
   "id": "82db3815",
   "metadata": {},
   "outputs": [],
   "source": [
    "xi, eta = sp.symbols(\"xi, eta\")\n",
    "x1, x2, x3, x4 = sp.symbols(\"x1 x2 x3 x4\")"
   ]
  },
  {
   "cell_type": "code",
   "execution_count": 3,
   "id": "aeca016b",
   "metadata": {},
   "outputs": [],
   "source": [
    "f = x1 * (1-xi) * (1-eta) / 4 + x2 * (1+xi) * (1-eta) / 4 + x3 * (1+xi) * (1+eta) / 4 + x4 * (1-xi) * (1+eta) / 4"
   ]
  },
  {
   "cell_type": "code",
   "execution_count": 4,
   "id": "976123e2",
   "metadata": {
    "scrolled": true
   },
   "outputs": [
    {
     "data": {
      "text/latex": [
       "$\\displaystyle \\frac{x_{1} - x_{2} + x_{3} - x_{4}}{4}$"
      ],
      "text/plain": [
       "(x1 - x2 + x3 - x4)/4"
      ]
     },
     "execution_count": 4,
     "metadata": {},
     "output_type": "execute_result"
    }
   ],
   "source": [
    "f.diff(xi, eta)"
   ]
  },
  {
   "cell_type": "code",
   "execution_count": 12,
   "id": "1b906f92",
   "metadata": {
    "scrolled": true
   },
   "outputs": [
    {
     "data": {
      "text/plain": [
       "'18*x**2 + 30*y**2 + math.exp(x) - math.sin(x) - 2*math.cos(x)'"
      ]
     },
     "execution_count": 12,
     "metadata": {},
     "output_type": "execute_result"
    }
   ],
   "source": [
    "x, y = symbols(\"x y\")\n",
    "u = x**4 + 2 * y**4 + 3 * x**2 * y**2 + sin(x) + 2 * cos(x) + exp(x)\n",
    "s = simplify(u.diff(x, 2) + u.diff(y,2))\n",
    "sp.pycode(s)"
   ]
  },
  {
   "cell_type": "code",
   "execution_count": 11,
   "id": "ded245d4",
   "metadata": {
    "scrolled": true
   },
   "outputs": [
    {
     "data": {
      "text/plain": [
       "'12*x**2 + 6*y**2 + 6*(x**2 + 4*y**2) + math.exp(x) - math.sin(x) - 2*math.cos(x)'"
      ]
     },
     "execution_count": 11,
     "metadata": {},
     "output_type": "execute_result"
    }
   ],
   "source": [
    "sp.pycode(s)"
   ]
  },
  {
   "cell_type": "code",
   "execution_count": 13,
   "id": "d93f2bab",
   "metadata": {},
   "outputs": [
    {
     "data": {
      "text/plain": [
       "'-18*x**4*math.cos(x**3) + 6*x**3 - 4*x**2*math.sin(x**2) + 4*x**2*math.exp(-x**2) + 18*x*y**2 - 12*x*math.sin(x**3) + 12*y**2 + 2*math.cos(x**2) - 2*math.exp(-x**2)'"
      ]
     },
     "execution_count": 13,
     "metadata": {},
     "output_type": "execute_result"
    }
   ],
   "source": [
    "x, y = symbols(\"x y\")\n",
    "u = x + 4 * y + 3 * x**3 * y**2 +  y**4 + sin(x**2) + 2 * cos(x**3) + exp(-x**2)\n",
    "s = simplify(u.diff(x, 2) + u.diff(y,2))\n",
    "sp.pycode(s)"
   ]
  }
 ],
 "metadata": {
  "kernelspec": {
   "display_name": "Python 3 (ipykernel)",
   "language": "python",
   "name": "python3"
  },
  "language_info": {
   "codemirror_mode": {
    "name": "ipython",
    "version": 3
   },
   "file_extension": ".py",
   "mimetype": "text/x-python",
   "name": "python",
   "nbconvert_exporter": "python",
   "pygments_lexer": "ipython3",
   "version": "3.9.13"
  }
 },
 "nbformat": 4,
 "nbformat_minor": 5
}
